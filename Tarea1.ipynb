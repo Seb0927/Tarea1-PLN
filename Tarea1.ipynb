{
 "cells": [
  {
   "cell_type": "markdown",
   "id": "8964ecdf-2a69-45ac-9073-85409107101d",
   "metadata": {},
   "source": [
    "# Tarea #1: Tokenización por Palabras de Textos con Spacy\n",
    "\n",
    "Realizado por:\n",
    "- Jose Luis Hincapie Bucheli (2125340)\n",
    "- Sebastián Idrobo Avirama (2122637)\n",
    "- Paul Rodrigo Rojas Guerrero (2127891)\n",
    "\n",
    "---"
   ]
  },
  {
   "cell_type": "markdown",
   "id": "75f347c1-be7f-46fd-8974-6ac24bdad815",
   "metadata": {},
   "source": [
    "# Importar dataset"
   ]
  },
  {
   "cell_type": "code",
   "execution_count": null,
   "id": "3a2d244b-e74d-42b9-999d-ef860afb3904",
   "metadata": {},
   "outputs": [],
   "source": [
    "!pip install datasets spacy"
   ]
  },
  {
   "cell_type": "code",
   "execution_count": null,
   "id": "d7577747-b804-42a5-8e57-662c449efe54",
   "metadata": {},
   "outputs": [],
   "source": [
    "from datasets import load_dataset\n",
    "\n"
   ]
  },
  {
   "cell_type": "code",
   "execution_count": null,
   "id": "e246f99b-8a16-4c78-9368-191244b9a200",
   "metadata": {},
   "outputs": [],
   "source": [
    "raw_text = load_dataset('large_spanish_corpus', name='DGT', split='train', streaming=True)"
   ]
  },
  {
   "cell_type": "code",
   "execution_count": null,
   "id": "df780174-8525-4de5-a886-e02f3581d494",
   "metadata": {},
   "outputs": [],
   "source": []
  },
  {
   "cell_type": "markdown",
   "id": "9600ff9b-ea99-4fbc-b2af-b1b576f54ff2",
   "metadata": {},
   "source": [
    "# Tokenización"
   ]
  },
  {
   "cell_type": "code",
   "execution_count": null,
   "id": "285b0ef3-ca6a-4876-8b34-7f9583e648cd",
   "metadata": {},
   "outputs": [],
   "source": [
    "import spacy\n",
    "from tqdm import tqdm\n",
    "\n",
    "!python -m spacy download es_core_news_sm "
   ]
  },
  {
   "cell_type": "code",
   "execution_count": null,
   "id": "3562b4d4-8d5f-4fc6-b714-03f7f997b7d2",
   "metadata": {},
   "outputs": [],
   "source": [
    "#Correr antes de hacer la limpieza\n",
    "nlp = spacy.load('es_core_news_sm')"
   ]
  },
  {
   "cell_type": "code",
   "execution_count": null,
   "id": "beca975f-3403-4500-a756-b670fb8e3090",
   "metadata": {
    "scrolled": true
   },
   "outputs": [],
   "source": [
    "tokenized_sentences = []\n",
    "for sent in tqdm(raw_text):\n",
    "    sent = sent['text']\n",
    "    doc = nlp(sent)\n",
    "    tokenized_sentence = []\n",
    "\n",
    "    for token in doc:\n",
    "        tokenized_sentence.append(token)\n",
    "\n",
    "    tokenized_sentences.append(tokenized_sentence)"
   ]
  },
  {
   "cell_type": "markdown",
   "id": "c9fed68d-570f-46d8-8d62-6e7a1a65d283",
   "metadata": {},
   "source": [
    "# Depuración del dataset"
   ]
  },
  {
   "cell_type": "code",
   "execution_count": null,
   "id": "39aeda46-7841-4990-9d0a-fcbcf7e87da4",
   "metadata": {},
   "outputs": [],
   "source": [
    "# Carga de las palabras toquenizadas \n",
    "with open(\"output.txt\",\"r\",encoding=\"utf-8\") as file:\n",
    "    file_contents = file.read()\n",
    "words = file_contents.split(\", \")\n",
    "print(words)"
   ]
  },
  {
   "cell_type": "markdown",
   "id": "7c27a6dc-d7a6-4498-8992-584a316d0e91",
   "metadata": {},
   "source": [
    "## Eliminación de los números del texto y stopwords"
   ]
  },
  {
   "cell_type": "code",
   "execution_count": null,
   "id": "3e6be6b7-64f2-48e0-8c1d-70f00f90f5da",
   "metadata": {},
   "outputs": [],
   "source": [
    "words_wn = []\n",
    "\n",
    "with open('output2.txt', 'w',encoding=\"utf-8\") as output_file:\n",
    "    for w in tqdm(words):\n",
    "        doc = nlp(w)\n",
    "        if len(doc) > 0 and not w.isdigit() and not doc[0].is_stop:\n",
    "                #words_wn.append(w)\n",
    "                output_file.write(f'{w}, ')\n",
    "# print(words_wn)"
   ]
  },
  {
   "cell_type": "code",
   "execution_count": null,
   "id": "55c531a1-ff44-415d-97e3-1b36ad694dad",
   "metadata": {},
   "outputs": [],
   "source": []
  },
  {
   "cell_type": "markdown",
   "id": "4adc94e4-b9da-4a80-aab3-ae742928ccf9",
   "metadata": {},
   "source": [
    "## Eliminación de la puntuación"
   ]
  },
  {
   "cell_type": "code",
   "execution_count": null,
   "id": "72b3d1a6-174d-46cf-b897-9baab7fd9e90",
   "metadata": {},
   "outputs": [],
   "source": [
    "# Inserte código aquí"
   ]
  },
  {
   "cell_type": "markdown",
   "id": "35ef2c16-0c78-4092-9efe-87552c2c484c",
   "metadata": {},
   "source": [
    "## Eliminación de otros símbolos especiales"
   ]
  },
  {
   "cell_type": "code",
   "execution_count": null,
   "id": "fcdc74c7-ba19-4c41-8c2c-3243b28ea85d",
   "metadata": {},
   "outputs": [],
   "source": [
    "# Inserte código aquí"
   ]
  }
 ],
 "metadata": {
  "kernelspec": {
   "display_name": "Python 3 (ipykernel)",
   "language": "python",
   "name": "python3"
  },
  "language_info": {
   "codemirror_mode": {
    "name": "ipython",
    "version": 3
   },
   "file_extension": ".py",
   "mimetype": "text/x-python",
   "name": "python",
   "nbconvert_exporter": "python",
   "pygments_lexer": "ipython3",
   "version": "3.10.12"
  }
 },
 "nbformat": 4,
 "nbformat_minor": 5
}
