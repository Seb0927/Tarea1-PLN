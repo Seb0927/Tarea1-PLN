{
 "cells": [
  {
   "cell_type": "markdown",
   "id": "8964ecdf-2a69-45ac-9073-85409107101d",
   "metadata": {},
   "source": [
    "# Tarea #1: Tokenización por Palabras de Textos con Spacy\n",
    "\n",
    "Realizado por:\n",
    "- Jose Luis Hincapie Bucheli (2125340)\n",
    "- Sebastián Idrobo Avirama (2122637)\n",
    "- Paul Rodrigo Rojas Guerrero (2127891)\n",
    "\n",
    "---"
   ]
  },
  {
   "cell_type": "markdown",
   "id": "75f347c1-be7f-46fd-8974-6ac24bdad815",
   "metadata": {},
   "source": [
    "# Importar dataset"
   ]
  },
  {
   "cell_type": "code",
   "execution_count": 65,
   "id": "3a2d244b-e74d-42b9-999d-ef860afb3904",
   "metadata": {},
   "outputs": [
    {
     "name": "stdout",
     "output_type": "stream",
     "text": [
      "Requirement already satisfied: datasets in /home/codespace/.local/lib/python3.10/site-packages (2.18.0)\n",
      "Requirement already satisfied: spacy in /home/codespace/.local/lib/python3.10/site-packages (3.7.4)\n",
      "Requirement already satisfied: filelock in /home/codespace/.local/lib/python3.10/site-packages (from datasets) (3.13.1)\n",
      "Requirement already satisfied: numpy>=1.17 in /home/codespace/.local/lib/python3.10/site-packages (from datasets) (1.26.4)\n",
      "Requirement already satisfied: pyarrow>=12.0.0 in /home/codespace/.local/lib/python3.10/site-packages (from datasets) (15.0.1)\n",
      "Requirement already satisfied: pyarrow-hotfix in /home/codespace/.local/lib/python3.10/site-packages (from datasets) (0.6)\n",
      "Requirement already satisfied: dill<0.3.9,>=0.3.0 in /home/codespace/.local/lib/python3.10/site-packages (from datasets) (0.3.8)\n",
      "Requirement already satisfied: pandas in /home/codespace/.local/lib/python3.10/site-packages (from datasets) (2.2.1)\n",
      "Requirement already satisfied: requests>=2.19.0 in /home/codespace/.local/lib/python3.10/site-packages (from datasets) (2.31.0)\n",
      "Requirement already satisfied: tqdm>=4.62.1 in /home/codespace/.local/lib/python3.10/site-packages (from datasets) (4.66.2)\n",
      "Requirement already satisfied: xxhash in /home/codespace/.local/lib/python3.10/site-packages (from datasets) (3.4.1)\n",
      "Requirement already satisfied: multiprocess in /home/codespace/.local/lib/python3.10/site-packages (from datasets) (0.70.16)\n",
      "Requirement already satisfied: fsspec<=2024.2.0,>=2023.1.0 in /home/codespace/.local/lib/python3.10/site-packages (from fsspec[http]<=2024.2.0,>=2023.1.0->datasets) (2024.2.0)\n",
      "Requirement already satisfied: aiohttp in /home/codespace/.local/lib/python3.10/site-packages (from datasets) (3.9.3)\n",
      "Requirement already satisfied: huggingface-hub>=0.19.4 in /home/codespace/.local/lib/python3.10/site-packages (from datasets) (0.21.4)\n",
      "Requirement already satisfied: packaging in /home/codespace/.local/lib/python3.10/site-packages (from datasets) (23.2)\n",
      "Requirement already satisfied: pyyaml>=5.1 in /home/codespace/.local/lib/python3.10/site-packages (from datasets) (6.0.1)\n",
      "Requirement already satisfied: spacy-legacy<3.1.0,>=3.0.11 in /home/codespace/.local/lib/python3.10/site-packages (from spacy) (3.0.12)\n",
      "Requirement already satisfied: spacy-loggers<2.0.0,>=1.0.0 in /home/codespace/.local/lib/python3.10/site-packages (from spacy) (1.0.5)\n",
      "Requirement already satisfied: murmurhash<1.1.0,>=0.28.0 in /home/codespace/.local/lib/python3.10/site-packages (from spacy) (1.0.10)\n",
      "Requirement already satisfied: cymem<2.1.0,>=2.0.2 in /home/codespace/.local/lib/python3.10/site-packages (from spacy) (2.0.8)\n",
      "Requirement already satisfied: preshed<3.1.0,>=3.0.2 in /home/codespace/.local/lib/python3.10/site-packages (from spacy) (3.0.9)\n",
      "Requirement already satisfied: thinc<8.3.0,>=8.2.2 in /home/codespace/.local/lib/python3.10/site-packages (from spacy) (8.2.3)\n",
      "Requirement already satisfied: wasabi<1.2.0,>=0.9.1 in /home/codespace/.local/lib/python3.10/site-packages (from spacy) (1.1.2)\n",
      "Requirement already satisfied: srsly<3.0.0,>=2.4.3 in /home/codespace/.local/lib/python3.10/site-packages (from spacy) (2.4.8)\n",
      "Requirement already satisfied: catalogue<2.1.0,>=2.0.6 in /home/codespace/.local/lib/python3.10/site-packages (from spacy) (2.0.10)\n",
      "Requirement already satisfied: weasel<0.4.0,>=0.1.0 in /home/codespace/.local/lib/python3.10/site-packages (from spacy) (0.3.4)\n",
      "Requirement already satisfied: typer<0.10.0,>=0.3.0 in /home/codespace/.local/lib/python3.10/site-packages (from spacy) (0.9.0)\n",
      "Requirement already satisfied: smart-open<7.0.0,>=5.2.1 in /home/codespace/.local/lib/python3.10/site-packages (from spacy) (6.4.0)\n",
      "Requirement already satisfied: pydantic!=1.8,!=1.8.1,<3.0.0,>=1.7.4 in /home/codespace/.local/lib/python3.10/site-packages (from spacy) (2.6.3)\n",
      "Requirement already satisfied: jinja2 in /home/codespace/.local/lib/python3.10/site-packages (from spacy) (3.1.3)\n",
      "Requirement already satisfied: setuptools in /home/codespace/.local/lib/python3.10/site-packages (from spacy) (69.1.1)\n",
      "Requirement already satisfied: langcodes<4.0.0,>=3.2.0 in /home/codespace/.local/lib/python3.10/site-packages (from spacy) (3.3.0)\n",
      "Requirement already satisfied: aiosignal>=1.1.2 in /home/codespace/.local/lib/python3.10/site-packages (from aiohttp->datasets) (1.3.1)\n",
      "Requirement already satisfied: attrs>=17.3.0 in /home/codespace/.local/lib/python3.10/site-packages (from aiohttp->datasets) (23.2.0)\n",
      "Requirement already satisfied: frozenlist>=1.1.1 in /home/codespace/.local/lib/python3.10/site-packages (from aiohttp->datasets) (1.4.1)\n",
      "Requirement already satisfied: multidict<7.0,>=4.5 in /home/codespace/.local/lib/python3.10/site-packages (from aiohttp->datasets) (6.0.5)\n",
      "Requirement already satisfied: yarl<2.0,>=1.0 in /home/codespace/.local/lib/python3.10/site-packages (from aiohttp->datasets) (1.9.4)\n",
      "Requirement already satisfied: async-timeout<5.0,>=4.0 in /home/codespace/.local/lib/python3.10/site-packages (from aiohttp->datasets) (4.0.3)\n",
      "Requirement already satisfied: typing-extensions>=3.7.4.3 in /home/codespace/.local/lib/python3.10/site-packages (from huggingface-hub>=0.19.4->datasets) (4.10.0)\n",
      "Requirement already satisfied: annotated-types>=0.4.0 in /home/codespace/.local/lib/python3.10/site-packages (from pydantic!=1.8,!=1.8.1,<3.0.0,>=1.7.4->spacy) (0.6.0)\n",
      "Requirement already satisfied: pydantic-core==2.16.3 in /home/codespace/.local/lib/python3.10/site-packages (from pydantic!=1.8,!=1.8.1,<3.0.0,>=1.7.4->spacy) (2.16.3)\n",
      "Requirement already satisfied: charset-normalizer<4,>=2 in /home/codespace/.local/lib/python3.10/site-packages (from requests>=2.19.0->datasets) (3.3.2)\n",
      "Requirement already satisfied: idna<4,>=2.5 in /home/codespace/.local/lib/python3.10/site-packages (from requests>=2.19.0->datasets) (3.6)\n",
      "Requirement already satisfied: urllib3<3,>=1.21.1 in /home/codespace/.local/lib/python3.10/site-packages (from requests>=2.19.0->datasets) (2.2.1)\n",
      "Requirement already satisfied: certifi>=2017.4.17 in /home/codespace/.local/lib/python3.10/site-packages (from requests>=2.19.0->datasets) (2024.2.2)\n",
      "Requirement already satisfied: blis<0.8.0,>=0.7.8 in /home/codespace/.local/lib/python3.10/site-packages (from thinc<8.3.0,>=8.2.2->spacy) (0.7.11)\n",
      "Requirement already satisfied: confection<1.0.0,>=0.0.1 in /home/codespace/.local/lib/python3.10/site-packages (from thinc<8.3.0,>=8.2.2->spacy) (0.1.4)\n",
      "Requirement already satisfied: click<9.0.0,>=7.1.1 in /home/codespace/.local/lib/python3.10/site-packages (from typer<0.10.0,>=0.3.0->spacy) (8.1.7)\n",
      "Requirement already satisfied: cloudpathlib<0.17.0,>=0.7.0 in /home/codespace/.local/lib/python3.10/site-packages (from weasel<0.4.0,>=0.1.0->spacy) (0.16.0)\n",
      "Requirement already satisfied: MarkupSafe>=2.0 in /home/codespace/.local/lib/python3.10/site-packages (from jinja2->spacy) (2.1.5)\n",
      "Requirement already satisfied: python-dateutil>=2.8.2 in /home/codespace/.local/lib/python3.10/site-packages (from pandas->datasets) (2.9.0.post0)\n",
      "Requirement already satisfied: pytz>=2020.1 in /home/codespace/.local/lib/python3.10/site-packages (from pandas->datasets) (2024.1)\n",
      "Requirement already satisfied: tzdata>=2022.7 in /home/codespace/.local/lib/python3.10/site-packages (from pandas->datasets) (2024.1)\n",
      "Requirement already satisfied: six>=1.5 in /home/codespace/.local/lib/python3.10/site-packages (from python-dateutil>=2.8.2->pandas->datasets) (1.16.0)\n"
     ]
    }
   ],
   "source": [
    "!pip install datasets spacy"
   ]
  },
  {
   "cell_type": "code",
   "execution_count": 67,
   "id": "d7577747-b804-42a5-8e57-662c449efe54",
   "metadata": {},
   "outputs": [],
   "source": [
    "from datasets import load_dataset"
   ]
  },
  {
   "cell_type": "code",
   "execution_count": 68,
   "id": "e246f99b-8a16-4c78-9368-191244b9a200",
   "metadata": {},
   "outputs": [],
   "source": [
    "raw_text = load_dataset('large_spanish_corpus', name='DGT', split='train', streaming=True)"
   ]
  },
  {
   "cell_type": "markdown",
   "id": "9600ff9b-ea99-4fbc-b2af-b1b576f54ff2",
   "metadata": {},
   "source": [
    "# Tokenización"
   ]
  },
  {
   "cell_type": "code",
   "execution_count": 69,
   "id": "285b0ef3-ca6a-4876-8b34-7f9583e648cd",
   "metadata": {},
   "outputs": [
    {
     "name": "stdout",
     "output_type": "stream",
     "text": [
      "Collecting es-core-news-sm==3.7.0\n",
      "  Downloading https://github.com/explosion/spacy-models/releases/download/es_core_news_sm-3.7.0/es_core_news_sm-3.7.0-py3-none-any.whl (12.9 MB)\n",
      "\u001b[2K     \u001b[38;2;114;156;31m━━━━━━━━━━━━━━━━━━━━━━━━━━━━━━━━━━━━━━━━\u001b[0m \u001b[32m12.9/12.9 MB\u001b[0m \u001b[31m57.9 MB/s\u001b[0m eta \u001b[36m0:00:00\u001b[0mm eta \u001b[36m0:00:01\u001b[0m36m0:00:01\u001b[0m\n",
      "\u001b[?25hRequirement already satisfied: spacy<3.8.0,>=3.7.0 in /home/codespace/.local/lib/python3.10/site-packages (from es-core-news-sm==3.7.0) (3.7.4)\n",
      "Requirement already satisfied: spacy-legacy<3.1.0,>=3.0.11 in /home/codespace/.local/lib/python3.10/site-packages (from spacy<3.8.0,>=3.7.0->es-core-news-sm==3.7.0) (3.0.12)\n",
      "Requirement already satisfied: spacy-loggers<2.0.0,>=1.0.0 in /home/codespace/.local/lib/python3.10/site-packages (from spacy<3.8.0,>=3.7.0->es-core-news-sm==3.7.0) (1.0.5)\n",
      "Requirement already satisfied: murmurhash<1.1.0,>=0.28.0 in /home/codespace/.local/lib/python3.10/site-packages (from spacy<3.8.0,>=3.7.0->es-core-news-sm==3.7.0) (1.0.10)\n",
      "Requirement already satisfied: cymem<2.1.0,>=2.0.2 in /home/codespace/.local/lib/python3.10/site-packages (from spacy<3.8.0,>=3.7.0->es-core-news-sm==3.7.0) (2.0.8)\n",
      "Requirement already satisfied: preshed<3.1.0,>=3.0.2 in /home/codespace/.local/lib/python3.10/site-packages (from spacy<3.8.0,>=3.7.0->es-core-news-sm==3.7.0) (3.0.9)\n",
      "Requirement already satisfied: thinc<8.3.0,>=8.2.2 in /home/codespace/.local/lib/python3.10/site-packages (from spacy<3.8.0,>=3.7.0->es-core-news-sm==3.7.0) (8.2.3)\n",
      "Requirement already satisfied: wasabi<1.2.0,>=0.9.1 in /home/codespace/.local/lib/python3.10/site-packages (from spacy<3.8.0,>=3.7.0->es-core-news-sm==3.7.0) (1.1.2)\n",
      "Requirement already satisfied: srsly<3.0.0,>=2.4.3 in /home/codespace/.local/lib/python3.10/site-packages (from spacy<3.8.0,>=3.7.0->es-core-news-sm==3.7.0) (2.4.8)\n",
      "Requirement already satisfied: catalogue<2.1.0,>=2.0.6 in /home/codespace/.local/lib/python3.10/site-packages (from spacy<3.8.0,>=3.7.0->es-core-news-sm==3.7.0) (2.0.10)\n",
      "Requirement already satisfied: weasel<0.4.0,>=0.1.0 in /home/codespace/.local/lib/python3.10/site-packages (from spacy<3.8.0,>=3.7.0->es-core-news-sm==3.7.0) (0.3.4)\n",
      "Requirement already satisfied: typer<0.10.0,>=0.3.0 in /home/codespace/.local/lib/python3.10/site-packages (from spacy<3.8.0,>=3.7.0->es-core-news-sm==3.7.0) (0.9.0)\n",
      "Requirement already satisfied: smart-open<7.0.0,>=5.2.1 in /home/codespace/.local/lib/python3.10/site-packages (from spacy<3.8.0,>=3.7.0->es-core-news-sm==3.7.0) (6.4.0)\n",
      "Requirement already satisfied: tqdm<5.0.0,>=4.38.0 in /home/codespace/.local/lib/python3.10/site-packages (from spacy<3.8.0,>=3.7.0->es-core-news-sm==3.7.0) (4.66.2)\n",
      "Requirement already satisfied: requests<3.0.0,>=2.13.0 in /home/codespace/.local/lib/python3.10/site-packages (from spacy<3.8.0,>=3.7.0->es-core-news-sm==3.7.0) (2.31.0)\n",
      "Requirement already satisfied: pydantic!=1.8,!=1.8.1,<3.0.0,>=1.7.4 in /home/codespace/.local/lib/python3.10/site-packages (from spacy<3.8.0,>=3.7.0->es-core-news-sm==3.7.0) (2.6.3)\n",
      "Requirement already satisfied: jinja2 in /home/codespace/.local/lib/python3.10/site-packages (from spacy<3.8.0,>=3.7.0->es-core-news-sm==3.7.0) (3.1.3)\n",
      "Requirement already satisfied: setuptools in /home/codespace/.local/lib/python3.10/site-packages (from spacy<3.8.0,>=3.7.0->es-core-news-sm==3.7.0) (69.1.1)\n",
      "Requirement already satisfied: packaging>=20.0 in /home/codespace/.local/lib/python3.10/site-packages (from spacy<3.8.0,>=3.7.0->es-core-news-sm==3.7.0) (23.2)\n",
      "Requirement already satisfied: langcodes<4.0.0,>=3.2.0 in /home/codespace/.local/lib/python3.10/site-packages (from spacy<3.8.0,>=3.7.0->es-core-news-sm==3.7.0) (3.3.0)\n",
      "Requirement already satisfied: numpy>=1.19.0 in /home/codespace/.local/lib/python3.10/site-packages (from spacy<3.8.0,>=3.7.0->es-core-news-sm==3.7.0) (1.26.4)\n",
      "Requirement already satisfied: annotated-types>=0.4.0 in /home/codespace/.local/lib/python3.10/site-packages (from pydantic!=1.8,!=1.8.1,<3.0.0,>=1.7.4->spacy<3.8.0,>=3.7.0->es-core-news-sm==3.7.0) (0.6.0)\n",
      "Requirement already satisfied: pydantic-core==2.16.3 in /home/codespace/.local/lib/python3.10/site-packages (from pydantic!=1.8,!=1.8.1,<3.0.0,>=1.7.4->spacy<3.8.0,>=3.7.0->es-core-news-sm==3.7.0) (2.16.3)\n",
      "Requirement already satisfied: typing-extensions>=4.6.1 in /home/codespace/.local/lib/python3.10/site-packages (from pydantic!=1.8,!=1.8.1,<3.0.0,>=1.7.4->spacy<3.8.0,>=3.7.0->es-core-news-sm==3.7.0) (4.10.0)\n",
      "Requirement already satisfied: charset-normalizer<4,>=2 in /home/codespace/.local/lib/python3.10/site-packages (from requests<3.0.0,>=2.13.0->spacy<3.8.0,>=3.7.0->es-core-news-sm==3.7.0) (3.3.2)\n",
      "Requirement already satisfied: idna<4,>=2.5 in /home/codespace/.local/lib/python3.10/site-packages (from requests<3.0.0,>=2.13.0->spacy<3.8.0,>=3.7.0->es-core-news-sm==3.7.0) (3.6)\n",
      "Requirement already satisfied: urllib3<3,>=1.21.1 in /home/codespace/.local/lib/python3.10/site-packages (from requests<3.0.0,>=2.13.0->spacy<3.8.0,>=3.7.0->es-core-news-sm==3.7.0) (2.2.1)\n",
      "Requirement already satisfied: certifi>=2017.4.17 in /home/codespace/.local/lib/python3.10/site-packages (from requests<3.0.0,>=2.13.0->spacy<3.8.0,>=3.7.0->es-core-news-sm==3.7.0) (2024.2.2)\n",
      "Requirement already satisfied: blis<0.8.0,>=0.7.8 in /home/codespace/.local/lib/python3.10/site-packages (from thinc<8.3.0,>=8.2.2->spacy<3.8.0,>=3.7.0->es-core-news-sm==3.7.0) (0.7.11)\n",
      "Requirement already satisfied: confection<1.0.0,>=0.0.1 in /home/codespace/.local/lib/python3.10/site-packages (from thinc<8.3.0,>=8.2.2->spacy<3.8.0,>=3.7.0->es-core-news-sm==3.7.0) (0.1.4)\n",
      "Requirement already satisfied: click<9.0.0,>=7.1.1 in /home/codespace/.local/lib/python3.10/site-packages (from typer<0.10.0,>=0.3.0->spacy<3.8.0,>=3.7.0->es-core-news-sm==3.7.0) (8.1.7)\n",
      "Requirement already satisfied: cloudpathlib<0.17.0,>=0.7.0 in /home/codespace/.local/lib/python3.10/site-packages (from weasel<0.4.0,>=0.1.0->spacy<3.8.0,>=3.7.0->es-core-news-sm==3.7.0) (0.16.0)\n",
      "Requirement already satisfied: MarkupSafe>=2.0 in /home/codespace/.local/lib/python3.10/site-packages (from jinja2->spacy<3.8.0,>=3.7.0->es-core-news-sm==3.7.0) (2.1.5)\n",
      "\u001b[38;5;2m✔ Download and installation successful\u001b[0m\n",
      "You can now load the package via spacy.load('es_core_news_sm')\n"
     ]
    }
   ],
   "source": [
    "import spacy\n",
    "from tqdm import tqdm\n",
    "import time\n",
    "\n",
    "!python -m spacy download es_core_news_sm"
   ]
  },
  {
   "cell_type": "code",
   "execution_count": 70,
   "id": "3562b4d4-8d5f-4fc6-b714-03f7f997b7d2",
   "metadata": {},
   "outputs": [],
   "source": [
    "#Correr antes de hacer la limpieza\n",
    "nlp = spacy.load('es_core_news_sm')"
   ]
  },
  {
   "cell_type": "code",
   "execution_count": null,
   "id": "beca975f-3403-4500-a756-b670fb8e3090",
   "metadata": {
    "scrolled": true
   },
   "outputs": [],
   "source": [
    "print(time.ctime(time.time()))\n",
    "\n",
    "with open('output.txt', 'w') as output_file:\n",
    "    for sent in tqdm(raw_text):\n",
    "        sent = sent['text']\n",
    "        doc = nlp(sent)\n",
    "    \n",
    "        for token in doc:\n",
    "            output_file.write(f'{token}, ')\n",
    "    \n",
    "        output_file.write('\\n')\n",
    "\n",
    "print(time.ctime(time.time()))"
   ]
  },
  {
   "cell_type": "markdown",
   "id": "171e3357-4a4d-42db-b257-6776a5605664",
   "metadata": {},
   "source": [
    "# Depuración del dataset"
   ]
  },
  {
   "cell_type": "code",
   "execution_count": 39,
   "id": "d446418d-0ab3-4d96-89f8-cb0c494ac2b1",
   "metadata": {},
   "outputs": [
    {
     "name": "stdout",
     "output_type": "stream",
     "text": [
      "['de', 'Ejecución', '(', 'UE', ')', 'no', '1073/2012', 'de', 'la', 'Comisión', '\\nde', '14', 'de', 'noviembre', 'de', '2012', '\\npor', 'el', 'que', 'se', 'establecen', 'valores', 'de', 'importación', 'a', 'tanto', 'alzado', 'para', 'la', 'determinación', 'del', 'precio', 'de', 'entrada', 'de', 'determinadas', 'frutas', 'y', 'hortalizas', '\\nLA', 'COMISIÓN', 'EUROPEA', ',', '\\nVisto', 'el', 'Tratado', 'de', 'Funcionamiento', 'de', 'la', 'Unión', 'Europea', ',', '\\nVisto', 'el', 'Reglamento', '(', 'CE', ')', 'no', '1234/2007', 'del', 'Consejo', ',', 'de', '22', 'de', 'octubre', 'de', '2007', ',', 'por', 'el', 'que', 'se', 'crea', 'una', 'organización', 'común', 'de', 'mercados', 'agrícolas', 'y', 'se', 'establecen', 'disposiciones', 'específicas', 'para', 'determinados', 'productos', 'agrícolas', '(', 'Reglamento', 'único', 'para', 'las', 'OCM', ')', '[', '1', ']', ',', '\\nVisto', 'el', 'Reglamento', 'de', 'Ejecución', '(', 'UE', ')', 'no', '543/2011', 'de', 'la', 'Comisión', ',', 'de', '7', 'de', 'junio', 'de', '2011', ',', 'por', 'el', 'que', 'se', 'establecen', 'disposiciones', 'de', 'aplicación', 'del', 'Reglamento', '(', 'CE', ')', 'no', '1234/2007', 'del', 'Consejo', 'en', 'los', 'sectores', 'de', 'las', 'frutas', 'y', 'hortalizas', 'y', 'de', 'las', 'frutas', 'y', 'hortalizas', 'transformadas', '[', '2', ']', ',', 'y', ',', 'en', 'particular', ',', 'su', 'artículo', '136', ',', 'apartado', '1', ',', '\\nConsiderando', 'lo', 'siguiente', ':', '\\nEl', 'Reglamento', 'de', 'Ejecución', '(', 'UE', ')', 'no', '543/2011', 'establece', ',', 'en', 'aplicación', 'de', 'los', 'resultados', 'de', 'las', 'negociaciones', 'comerciales', 'multilaterales', 'de', 'la', 'Ronda']\n"
     ]
    }
   ],
   "source": [
    "# Carga de las palabras toquenizadas \n",
    "with open(\"output.txt\",\"r\",encoding=\"utf-8\") as file:\n",
    "    file_contents = file.read()\n",
    "words = file_contents.split(\", \")\n",
    "print(words[1:200])"
   ]
  },
  {
   "cell_type": "code",
   "execution_count": 81,
   "id": "3e6be6b7-64f2-48e0-8c1d-70f00f90f5da",
   "metadata": {},
   "outputs": [
    {
     "name": "stderr",
     "output_type": "stream",
     "text": [
      "100%|████████████████████████| 155210/155210 [08:43<00:00, 296.25it/s]\n"
     ]
    }
   ],
   "source": [
    "import re, string\n",
    "\n",
    "words_wn = []\n",
    "\n",
    "with open('output2.txt', 'w',encoding=\"utf-8\") as output_file:\n",
    "    for w in tqdm(words):\n",
    "        doc = nlp(w)\n",
    "        # Verificar que sea una palabra, no sea un dígito y no sea una stop-word\n",
    "        if len(doc) > 0 and not w.isdigit() and not doc[0].is_stop:\n",
    "            w = re.sub(r'[0-9]','', w) # Depurar de dígitos\n",
    "            re_punc = re.compile('[%s]' % re.escape(string.punctuation)) \n",
    "            w = re_punc.sub('', w) # Depurar de signos de puntuación\n",
    "            w = re.sub(\"\\!|\\'|\\?|\\¿|\\¡|\\«|\\»|\\—\",\"\",w) # Depurar de símbolos especiales\n",
    "            if w.strip(): # Si el token se convirtió en una cadena vacía o con espacios, no añadirla\n",
    "                output_file.write(f'{w}, ')"
   ]
  },
  {
   "cell_type": "markdown",
   "id": "c47e908e-0908-4bb6-bec5-fa14d123a0b1",
   "metadata": {},
   "source": [
    "# Tokenización depurada"
   ]
  },
  {
   "cell_type": "code",
   "execution_count": 38,
   "id": "d40cb573-bb33-410a-bbbe-831159f75a68",
   "metadata": {},
   "outputs": [
    {
     "name": "stdout",
     "output_type": "stream",
     "text": [
      "[['de', 'noviembre,'], ['por', 'establecen', 'valores', 'importación', 'alzado', 'determinación', 'precio', 'entrada', 'determinadas', 'frutas', 'hortalizas,'], ['LA', 'COMISIÓN', 'EUROPEA,'], ['Visto', 'Tratado', 'Funcionamiento', 'Unión', 'Europea,'], ['Visto', 'Reglamento', 'CE', 'Consejo', 'octubre', 'crea', 'organización', 'común', 'mercados', 'agrícolas', 'establecen', 'disposiciones', 'específicas', 'determinados', 'productos', 'agrícolas', 'Reglamento', 'único', 'OCM,'], ['Visto', 'Reglamento', 'Ejecución', 'UE', 'Comisión', 'junio', 'establecen', 'disposiciones', 'aplicación', 'Reglamento', 'CE', 'Consejo', 'sectores', 'frutas', 'hortalizas', 'frutas', 'hortalizas', 'transformadas', 'particular', 'artículo', 'apartado,'], ['Considerando,'], ['El', 'Reglamento', 'Ejecución', 'UE', 'establece', 'aplicación', 'resultados', 'negociaciones', 'comerciales', 'multilaterales', 'Ronda', 'Uruguay', 'criterios', 'Comisión', 'fije', 'valores', 'importación', 'alzado', 'terceros', 'países', 'correspondientes', 'productos', 'períodos', 'figuran', 'anexo', 'XVI', 'Reglamento,'], ['De', 'artículo', 'apartado', 'Reglamento', 'Ejecución', 'UE', 'valor', 'importación', 'alzado', 'calcula', 'hábil', 'teniendo', 'datos', 'varían', 'diariamente,'], ['Por', 'presente', 'Reglamento', 'entrar', 'vigor', 'publicación', 'Diario', 'Oficial', 'Unión', 'Europea,'], ['HA', 'ADOPTADO', 'PRESENTE', 'REGLAMENTO,'], ['Artículo,'], ['En', 'anexo', 'presente', 'Reglamento', 'quedan', 'fijados', 'valores', 'importación', 'alzado', 'refiere', 'artículo', 'Reglamento', 'Ejecución', 'UE,'], ['Artículo,'], ['El', 'presente', 'Reglamento', 'entrará', 'vigor', 'publicación', 'Diario', 'Oficial', 'Unión', 'Europea,'], ['El', 'presente', 'Reglamento', 'obligatorio', 'elementos', 'directamente', 'aplicable', 'miembro,'], ['Hecho', 'Bruselas', 'noviembre,'], ['DO', 'L', 'p,'], ['DO', 'L', 'p,'], ['ANEXO,'], ['Valores', 'importación', 'alzado', 'determinación', 'precio', 'entrada', 'determinadas', 'frutas', 'hortalizas,'], ['Código', 'NC,'], ['Código', 'tercer', 'país,'], ['Valor', 'importación', 'alzado,'], ['Nomenclatura', 'países', 'fijada', 'Reglamento', 'CE', 'Comisión', 'DO', 'L', 'p,'], ['El', 'código', 'ZZ', 'significa', 'orígenes,'], ['Reglamento', 'CE', 'Comisión,'], ['de', 'diciembre,'], ['por', 'establecen', 'valores', 'globales', 'importación', 'determinación', 'precio', 'entrada', 'determinadas', 'frutas', 'hortalizas,'], ['LA', 'COMISIÓN', 'COMUNIDADES', 'EUROPEAS,'], ['Visto', 'Tratado', 'constitutivo', 'Comunidad', 'Europea,'], ['Visto', 'Reglamento', 'CE', 'Comisión', 'diciembre', 'establecen', 'disposiciones', 'aplicación', 'régimen', 'importación', 'frutas', 'hortalizas', 'particular', 'apartado', 'artículo,'], ['Considerando,'], ['El', 'Reglamento', 'CE', 'establece', 'aplicación', 'resultados', 'negociaciones', 'comerciales', 'multilaterales', 'Ronda', 'Uruguay', 'criterios', 'Comisión', 'fije', 'valores', 'alzado', 'importación', 'terceros', 'países', 'correspondientes', 'productos', 'períodos', 'precisan', 'anexo,'], ['En', 'aplicación', 'criterios', 'indicados', 'valores', 'globales', 'importación', 'fijarse', 'niveles', 'figuran', 'anexo', 'presente', 'Reglamento,'], ['HA', 'ADOPTADO', 'PRESENTE', 'REGLAMENTO,'], ['Artículo,'], ['Los', 'valores', 'globales', 'importación', 'refiere', 'artículo', 'Reglamento', 'CE', 'quedan', 'fijados', 'indica', 'cuadro', 'anexo,'], ['Artículo,'], ['El', 'presente', 'Reglamento', 'entrará', 'vigor', 'diciembre,'], ['El', 'presente', 'Reglamento', 'obligatorio', 'elementos', 'directamente', 'aplicable', 'miembro,'], ['Hecho', 'Bruselas', 'diciembre,'], ['Por', 'Comisión,'], ['Director', 'General', 'Agricultura', 'Desarrollo', 'Rural,'], ['DO', 'L', 'p,'], ['Reglamento', 'modificado', 'lugar', 'Reglamento', 'CE', 'DO', 'L', 'p,'], ['ANEXO,'], ['del', 'Reglamento', 'Comisión', 'diciembre', 'establecen', 'valores', 'globales', 'importación', 'determinación', 'precio', 'entrada', 'determinadas', 'frutas', 'hortalizas,'], ['Código', 'NC,']]\n"
     ]
    }
   ],
   "source": [
    "with open('output2.txt', 'r', encoding=\"utf-8\") as file:\n",
    "    lines = file.readlines()\n",
    "    sentences = []\n",
    "    for line in lines:\n",
    "        words = line.strip().split(', ')\n",
    "        sentences.append(words)\n",
    "\n",
    "print(sentences[1:50])"
   ]
  }
 ],
 "metadata": {
  "kernelspec": {
   "display_name": "Python 3 (ipykernel)",
   "language": "python",
   "name": "python3"
  },
  "language_info": {
   "codemirror_mode": {
    "name": "ipython",
    "version": 3
   },
   "file_extension": ".py",
   "mimetype": "text/x-python",
   "name": "python",
   "nbconvert_exporter": "python",
   "pygments_lexer": "ipython3",
   "version": "3.10.13"
  }
 },
 "nbformat": 4,
 "nbformat_minor": 5
}
