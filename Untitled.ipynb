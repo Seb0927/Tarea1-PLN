{
 "cells": [
  {
   "cell_type": "markdown",
   "id": "8964ecdf-2a69-45ac-9073-85409107101d",
   "metadata": {},
   "source": [
    "# Tarea #1: Tokenización por Palabras de Textos con Spacy\n",
    "\n",
    "Realizado por:\n",
    "- Jose Luis Hincapie Bucheli (2125340)\n",
    "- Sebastián Idrobo Avirama (2122637)\n",
    "- Paul Rodrigo Rojas Guerrero (---)\n",
    "\n",
    "---"
   ]
  },
  {
   "cell_type": "markdown",
   "id": "c9fed68d-570f-46d8-8d62-6e7a1a65d283",
   "metadata": {},
   "source": [
    "# Depuración del dataset"
   ]
  },
  {
   "cell_type": "markdown",
   "id": "7c27a6dc-d7a6-4498-8992-584a316d0e91",
   "metadata": {},
   "source": [
    "## Eliminación de los números del texto"
   ]
  },
  {
   "cell_type": "code",
   "execution_count": null,
   "id": "3e6be6b7-64f2-48e0-8c1d-70f00f90f5da",
   "metadata": {},
   "outputs": [],
   "source": [
    "# Inserte código aquí"
   ]
  },
  {
   "cell_type": "markdown",
   "id": "cfa7027a-09ea-4dd2-a492-cc958c89b2fa",
   "metadata": {},
   "source": [
    "## Eliminación de las palabras stopwords"
   ]
  },
  {
   "cell_type": "code",
   "execution_count": null,
   "id": "55c531a1-ff44-415d-97e3-1b36ad694dad",
   "metadata": {},
   "outputs": [],
   "source": [
    "# Inserte código aquí"
   ]
  },
  {
   "cell_type": "markdown",
   "id": "4adc94e4-b9da-4a80-aab3-ae742928ccf9",
   "metadata": {},
   "source": [
    "## Eliminación de la puntuación"
   ]
  },
  {
   "cell_type": "code",
   "execution_count": null,
   "id": "72b3d1a6-174d-46cf-b897-9baab7fd9e90",
   "metadata": {},
   "outputs": [],
   "source": [
    "# Inserte código aquí"
   ]
  },
  {
   "cell_type": "markdown",
   "id": "35ef2c16-0c78-4092-9efe-87552c2c484c",
   "metadata": {},
   "source": [
    "## Eliminación de otros símbolos especiales"
   ]
  },
  {
   "cell_type": "code",
   "execution_count": null,
   "id": "fcdc74c7-ba19-4c41-8c2c-3243b28ea85d",
   "metadata": {},
   "outputs": [],
   "source": [
    "# Inserte código aquí"
   ]
  },
  {
   "cell_type": "markdown",
   "id": "9600ff9b-ea99-4fbc-b2af-b1b576f54ff2",
   "metadata": {},
   "source": [
    "# Tokenización"
   ]
  },
  {
   "cell_type": "code",
   "execution_count": null,
   "id": "84e2aa6e-b779-4fe3-a880-915bca124bc6",
   "metadata": {},
   "outputs": [],
   "source": [
    "# Inserte código aquí"
   ]
  }
 ],
 "metadata": {
  "kernelspec": {
   "display_name": "Python 3 (ipykernel)",
   "language": "python",
   "name": "python3"
  },
  "language_info": {
   "codemirror_mode": {
    "name": "ipython",
    "version": 3
   },
   "file_extension": ".py",
   "mimetype": "text/x-python",
   "name": "python",
   "nbconvert_exporter": "python",
   "pygments_lexer": "ipython3",
   "version": "3.11.7"
  }
 },
 "nbformat": 4,
 "nbformat_minor": 5
}
